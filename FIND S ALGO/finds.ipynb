{
 "cells": [
  {
   "cell_type": "code",
   "execution_count": 2,
   "metadata": {},
   "outputs": [
    {
     "data": {
      "text/html": [
       "<div>\n",
       "<style scoped>\n",
       "    .dataframe tbody tr th:only-of-type {\n",
       "        vertical-align: middle;\n",
       "    }\n",
       "\n",
       "    .dataframe tbody tr th {\n",
       "        vertical-align: top;\n",
       "    }\n",
       "\n",
       "    .dataframe thead th {\n",
       "        text-align: right;\n",
       "    }\n",
       "</style>\n",
       "<table border=\"1\" class=\"dataframe\">\n",
       "  <thead>\n",
       "    <tr style=\"text-align: right;\">\n",
       "      <th></th>\n",
       "      <th>sunny</th>\n",
       "      <th>warm</th>\n",
       "      <th>normal</th>\n",
       "      <th>strong</th>\n",
       "      <th>warm.1</th>\n",
       "      <th>same</th>\n",
       "      <th>yes</th>\n",
       "    </tr>\n",
       "  </thead>\n",
       "  <tbody>\n",
       "    <tr>\n",
       "      <th>0</th>\n",
       "      <td>sunny</td>\n",
       "      <td>warm</td>\n",
       "      <td>high</td>\n",
       "      <td>strong</td>\n",
       "      <td>warm</td>\n",
       "      <td>same</td>\n",
       "      <td>yes</td>\n",
       "    </tr>\n",
       "    <tr>\n",
       "      <th>1</th>\n",
       "      <td>rainy</td>\n",
       "      <td>cold</td>\n",
       "      <td>high</td>\n",
       "      <td>strong</td>\n",
       "      <td>warm</td>\n",
       "      <td>change</td>\n",
       "      <td>no</td>\n",
       "    </tr>\n",
       "    <tr>\n",
       "      <th>2</th>\n",
       "      <td>sunny</td>\n",
       "      <td>warm</td>\n",
       "      <td>high</td>\n",
       "      <td>strong</td>\n",
       "      <td>cool</td>\n",
       "      <td>change</td>\n",
       "      <td>yes</td>\n",
       "    </tr>\n",
       "  </tbody>\n",
       "</table>\n",
       "</div>"
      ],
      "text/plain": [
       "   sunny  warm normal  strong warm.1    same  yes\n",
       "0  sunny  warm   high  strong   warm    same  yes\n",
       "1  rainy  cold   high  strong   warm  change   no\n",
       "2  sunny  warm   high  strong   cool  change  yes"
      ]
     },
     "execution_count": 2,
     "metadata": {},
     "output_type": "execute_result"
    }
   ],
   "source": [
    "import pandas as pd\n",
    "df = pd.read_csv('enjoySport.csv')\n",
    "# df = df.drop (['slno'],axis=1)\n",
    "column_length = df.shape[1]\n",
    "df.head()\n",
    "\n",
    "\n",
    "# OUTPUT\n",
    "\n",
    "# \tsunny\twarm\tnormal\tstrong\twarm.1\tsame\tyes\n",
    "# 0\tsunny\twarm\thigh\tstrong\twarm\tsame\tyes\n",
    "# 1\trainy\tcold\thigh\tstrong\twarm\tchange\tno\n",
    "# 2\tsunny\twarm\thigh\tstrong\tcool\tchange\tyes"
   ]
  },
  {
   "cell_type": "code",
   "execution_count": 4,
   "metadata": {},
   "outputs": [
    {
     "name": "stdout",
     "output_type": "stream",
     "text": [
      "positive hypothesies \n",
      " [['sunny', 'warm', 'high', 'strong', 'warm', 'same', 'yes'], ['sunny', 'warm', 'high', 'strong', 'cool', 'change', 'yes']]\n",
      "negative hypothesies \n",
      " [['rainy', 'cold', 'high', 'strong', 'warm', 'change', 'no']]\n",
      "max specific hypothesies \n",
      " ['sunny', 'warm', 'high', 'strong', '?', '?']\n"
     ]
    }
   ],
   "source": [
    "h=['0']*(column_length-1)\n",
    "hp=[]\n",
    "hn=[]\n",
    "for training_example in df.values:\n",
    "    if training_example[-1] != 'no':\n",
    "        hp.append(list(training_example))\n",
    "    else:\n",
    "        hn.append(list(training_example))\n",
    "for i in range(len(hp)):\n",
    "    for j in range(column_length-1):\n",
    "        if (h[j]=='0'):\n",
    "            h[j]=hp[i][j]\n",
    "        if (h[j]!=hp[i][j]):\n",
    "            h[j]='?'\n",
    "        else:\n",
    "            h[j]=hp[i][j]\n",
    "print(f'positive hypothesies \\n {hp}')        \n",
    "print(f'negative hypothesies \\n {hn}') \n",
    "print(f'max specific hypothesies \\n {h}') \n",
    "\n",
    "\n",
    "#OUTPUT\n",
    "\n",
    "# positive hypothesies \n",
    "#  [['sunny', 'warm', 'high', 'strong', 'warm', 'same', 'yes'], ['sunny', 'warm', 'high', 'strong', 'cool', 'change', 'yes']]\n",
    "# negative hypothesies \n",
    "#  [['rainy', 'cold', 'high', 'strong', 'warm', 'change', 'no']]\n",
    "# max specific hypothesies \n",
    "#  ['sunny', 'warm', 'high', 'strong', '?', '?']"
   ]
  }
 ],
 "metadata": {
  "kernelspec": {
   "display_name": "Python 3",
   "language": "python",
   "name": "python3"
  },
  "language_info": {
   "codemirror_mode": {
    "name": "ipython",
    "version": 3
   },
   "file_extension": ".py",
   "mimetype": "text/x-python",
   "name": "python",
   "nbconvert_exporter": "python",
   "pygments_lexer": "ipython3",
   "version": "3.11.4"
  }
 },
 "nbformat": 4,
 "nbformat_minor": 2
}
